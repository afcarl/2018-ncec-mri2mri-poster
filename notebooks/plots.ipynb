{
 "cells": [
  {
   "cell_type": "code",
   "execution_count": 1,
   "metadata": {
    "collapsed": true
   },
   "outputs": [],
   "source": [
    "import numpy as np\n",
    "import matplotlib.pyplot as plt\n",
    "import seaborn as sns\n",
    "\n",
    "import pandas as pd\n",
    "%matplotlib inline"
   ]
  },
  {
   "cell_type": "code",
   "execution_count": 2,
   "metadata": {
    "collapsed": false
   },
   "outputs": [],
   "source": [
    "df = pd.read_csv('./data.csv')"
   ]
  },
  {
   "cell_type": "code",
   "execution_count": 3,
   "metadata": {
    "collapsed": false
   },
   "outputs": [
    {
     "data": {
      "text/html": [
       "<div>\n",
       "<table border=\"1\" class=\"dataframe\">\n",
       "  <thead>\n",
       "    <tr style=\"text-align: right;\">\n",
       "      <th></th>\n",
       "      <th>Pipeline</th>\n",
       "      <th>Task</th>\n",
       "      <th>Duration</th>\n",
       "    </tr>\n",
       "  </thead>\n",
       "  <tbody>\n",
       "    <tr>\n",
       "      <th>30</th>\n",
       "      <td>Pure Python</td>\n",
       "      <td>Denoising</td>\n",
       "      <td>4461.444828</td>\n",
       "    </tr>\n",
       "    <tr>\n",
       "      <th>31</th>\n",
       "      <td>Pure Python</td>\n",
       "      <td>Denoising</td>\n",
       "      <td>4498.919640</td>\n",
       "    </tr>\n",
       "    <tr>\n",
       "      <th>32</th>\n",
       "      <td>Pure Python</td>\n",
       "      <td>Denoising</td>\n",
       "      <td>4442.421680</td>\n",
       "    </tr>\n",
       "    <tr>\n",
       "      <th>33</th>\n",
       "      <td>Spark</td>\n",
       "      <td>Denoising</td>\n",
       "      <td>823.429766</td>\n",
       "    </tr>\n",
       "    <tr>\n",
       "      <th>34</th>\n",
       "      <td>Spark</td>\n",
       "      <td>Denoising</td>\n",
       "      <td>833.984632</td>\n",
       "    </tr>\n",
       "    <tr>\n",
       "      <th>35</th>\n",
       "      <td>Spark</td>\n",
       "      <td>Denoising</td>\n",
       "      <td>812.537361</td>\n",
       "    </tr>\n",
       "    <tr>\n",
       "      <th>36</th>\n",
       "      <td>Spark</td>\n",
       "      <td>Denoising</td>\n",
       "      <td>832.636385</td>\n",
       "    </tr>\n",
       "    <tr>\n",
       "      <th>37</th>\n",
       "      <td>Myria</td>\n",
       "      <td>Denoising</td>\n",
       "      <td>691.852576</td>\n",
       "    </tr>\n",
       "    <tr>\n",
       "      <th>38</th>\n",
       "      <td>Myria</td>\n",
       "      <td>Denoising</td>\n",
       "      <td>691.870930</td>\n",
       "    </tr>\n",
       "    <tr>\n",
       "      <th>39</th>\n",
       "      <td>Rasdaman</td>\n",
       "      <td>Denoising</td>\n",
       "      <td>1271.000000</td>\n",
       "    </tr>\n",
       "    <tr>\n",
       "      <th>40</th>\n",
       "      <td>Rasdaman</td>\n",
       "      <td>Denoising</td>\n",
       "      <td>1276.000000</td>\n",
       "    </tr>\n",
       "    <tr>\n",
       "      <th>41</th>\n",
       "      <td>Rasdaman</td>\n",
       "      <td>Denoising</td>\n",
       "      <td>1266.000000</td>\n",
       "    </tr>\n",
       "    <tr>\n",
       "      <th>42</th>\n",
       "      <td>Rasdaman</td>\n",
       "      <td>Denoising</td>\n",
       "      <td>1303.000000</td>\n",
       "    </tr>\n",
       "    <tr>\n",
       "      <th>43</th>\n",
       "      <td>TensorFlow</td>\n",
       "      <td>Denoising</td>\n",
       "      <td>185500.000000</td>\n",
       "    </tr>\n",
       "  </tbody>\n",
       "</table>\n",
       "</div>"
      ],
      "text/plain": [
       "       Pipeline       Task       Duration\n",
       "30  Pure Python  Denoising    4461.444828\n",
       "31  Pure Python  Denoising    4498.919640\n",
       "32  Pure Python  Denoising    4442.421680\n",
       "33        Spark  Denoising     823.429766\n",
       "34        Spark  Denoising     833.984632\n",
       "35        Spark  Denoising     812.537361\n",
       "36        Spark  Denoising     832.636385\n",
       "37        Myria  Denoising     691.852576\n",
       "38        Myria  Denoising     691.870930\n",
       "39     Rasdaman  Denoising    1271.000000\n",
       "40     Rasdaman  Denoising    1276.000000\n",
       "41     Rasdaman  Denoising    1266.000000\n",
       "42     Rasdaman  Denoising    1303.000000\n",
       "43   TensorFlow  Denoising  185500.000000"
      ]
     },
     "execution_count": 3,
     "metadata": {},
     "output_type": "execute_result"
    }
   ],
   "source": [
    "df[df.Task==\"Denoising\"]"
   ]
  },
  {
   "cell_type": "code",
   "execution_count": 8,
   "metadata": {
    "collapsed": false
   },
   "outputs": [
    {
     "data": {
      "image/png": "[encoded data removed]",
      "text/plain": [
       "<matplotlib.figure.Figure at 0x11c433908>"
      ]
     },
     "metadata": {},
     "output_type": "display_data"
    },
    {
     "data": {
      "image/png": "[encoded data removed]",
      "text/plain": [
       "<matplotlib.figure.Figure at 0x11b9c1438>"
      ]
     },
     "metadata": {},
     "output_type": "display_data"
    },
    {
     "data": {
      "image/png": "[encoded data removed]",
      "text/plain": [
       "<matplotlib.figure.Figure at 0x11986eba8>"
      ]
     },
     "metadata": {},
     "output_type": "display_data"
    },
    {
     "data": {
      "image/png": "[encoded data removed]",
      "text/plain": [
       "<matplotlib.figure.Figure at 0x11c45b438>"
      ]
     },
     "metadata": {},
     "output_type": "display_data"
    }
   ],
   "source": [
    "for task in [\"Data ingestion\", \"Segmentation\", \"Denoising\", \"Model fit\"]:\n",
    "    if task == \"Denoising\":\n",
    "        # Broken y axis:\n",
    "        fig, (ax2, ax1) = plt.subplots(2, 1, sharex=True)\n",
    "        for ax in [ax2, ax1]:\n",
    "            sns.barplot(data=df[df.Task==task], x=\"Pipeline\", y=\"Duration\",\n",
    "                        order=[\"Pure python\", \"Spark\", \"Myria\", \"Rasdaman\", \"TensorFlow\"],\n",
    "                        ax=ax)\n",
    "            ax.set_xlabel('')\n",
    "            ax.set_ylabel('')\n",
    "\n",
    "        ax1.set_ylim([0, 1500])\n",
    "        ax2.set_ylim([180000, 190000])\n",
    "        \n",
    "#         ax.set_ylabel('Duration (seconds)')\n",
    "#         ax.set_xlabel('')\n",
    "#         ax1.bar(np.arange(len(pipelines)) -0.4, np.mean(df[df['Task'] == task][\"Duration\"]))\n",
    "#         ax2.bar(np.arange(len(pipelines)) -0.4, np.mean(df[df['Task'] == task][\"Duration\"]))\n",
    "#         ax1.set_ylim([0, 5000])\n",
    "#         ax2.set_ylim([180000, 190000])\n",
    "#         ax1.set_xticks(range(len(pipelines)))\n",
    "#         ax1.set_xticklabels(pipelines)\n",
    "#         ax1.set_xlim([-0.5, 4.5])\n",
    "#         ax2.set_xlim([-0.5, 4.5])\n",
    "#         ax2.set_title(task)\n",
    "        ax1.text(-1.3, 2000, 'Duration (seconds)', rotation=90, fontdict=dict(size=11))\n",
    "    else:\n",
    "        fig, ax = plt.subplots(1)\n",
    "        sns.barplot(data=df[df.Task==task], x=\"Pipeline\", y=\"Duration\",\n",
    "                    order=[\"Pure python\", \"Spark\", \"Myria\", \"Rasdaman\", \"TensorFlow\"])\n",
    "        ax.set_ylabel('Duration (seconds)')\n",
    "        ax.set_xlabel('')\n",
    "    txt = fig.suptitle(task)\n",
    "    txt.set_size(14)\n",
    "    fig.savefig('%s.png'%task)"
   ]
  },
  {
   "cell_type": "code",
   "execution_count": 5,
   "metadata": {
    "collapsed": true
   },
   "outputs": [],
   "source": [
    "txt.set_size(14)"
   ]
  },
  {
   "cell_type": "code",
   "execution_count": 6,
   "metadata": {
    "collapsed": true
   },
   "outputs": [],
   "source": [
    "pipelines = df.Pipeline.unique()"
   ]
  },
  {
   "cell_type": "code",
   "execution_count": 7,
   "metadata": {
    "collapsed": false
   },
   "outputs": [
    {
     "ename": "ValueError",
     "evalue": "incompatible sizes: argument 'height' must be length 5 or scalar",
     "output_type": "error",
     "traceback": [
      "\u001b[0;31m---------------------------------------------------------------------------\u001b[0m",
      "\u001b[0;31mValueError\u001b[0m                                Traceback (most recent call last)",
      "\u001b[0;32m<ipython-input-7-1e824a36c1df>\u001b[0m in \u001b[0;36m<module>\u001b[0;34m()\u001b[0m\n\u001b[1;32m     15\u001b[0m     \u001b[0;32melse\u001b[0m\u001b[0;34m:\u001b[0m\u001b[0;34m\u001b[0m\u001b[0m\n\u001b[1;32m     16\u001b[0m         \u001b[0mfig\u001b[0m\u001b[0;34m,\u001b[0m \u001b[0max\u001b[0m \u001b[0;34m=\u001b[0m \u001b[0mplt\u001b[0m\u001b[0;34m.\u001b[0m\u001b[0msubplots\u001b[0m\u001b[0;34m(\u001b[0m\u001b[0;34m)\u001b[0m\u001b[0;34m\u001b[0m\u001b[0m\n\u001b[0;32m---> 17\u001b[0;31m         \u001b[0max\u001b[0m\u001b[0;34m.\u001b[0m\u001b[0mbar\u001b[0m\u001b[0;34m(\u001b[0m\u001b[0mnp\u001b[0m\u001b[0;34m.\u001b[0m\u001b[0marange\u001b[0m\u001b[0;34m(\u001b[0m\u001b[0mlen\u001b[0m\u001b[0;34m(\u001b[0m\u001b[0mpipelines\u001b[0m\u001b[0;34m)\u001b[0m\u001b[0;34m)\u001b[0m \u001b[0;34m-\u001b[0m\u001b[0;36m0.4\u001b[0m\u001b[0;34m,\u001b[0m \u001b[0mnp\u001b[0m\u001b[0;34m.\u001b[0m\u001b[0mmean\u001b[0m\u001b[0;34m(\u001b[0m\u001b[0mdf\u001b[0m\u001b[0;34m[\u001b[0m\u001b[0mdf\u001b[0m\u001b[0;34m[\u001b[0m\u001b[0;34m'Task'\u001b[0m\u001b[0;34m]\u001b[0m \u001b[0;34m==\u001b[0m \u001b[0mtask\u001b[0m\u001b[0;34m]\u001b[0m\u001b[0;34m[\u001b[0m\u001b[0;34m\"Duration\"\u001b[0m\u001b[0;34m]\u001b[0m\u001b[0;34m)\u001b[0m\u001b[0;34m)\u001b[0m\u001b[0;34m\u001b[0m\u001b[0m\n\u001b[0m\u001b[1;32m     18\u001b[0m         \u001b[0max\u001b[0m\u001b[0;34m.\u001b[0m\u001b[0mset_xticks\u001b[0m\u001b[0;34m(\u001b[0m\u001b[0mrange\u001b[0m\u001b[0;34m(\u001b[0m\u001b[0mlen\u001b[0m\u001b[0;34m(\u001b[0m\u001b[0mpipelines\u001b[0m\u001b[0;34m)\u001b[0m\u001b[0;34m)\u001b[0m\u001b[0;34m)\u001b[0m\u001b[0;34m\u001b[0m\u001b[0m\n\u001b[1;32m     19\u001b[0m         \u001b[0max\u001b[0m\u001b[0;34m.\u001b[0m\u001b[0mset_xticklabels\u001b[0m\u001b[0;34m(\u001b[0m\u001b[0mpipelines\u001b[0m\u001b[0;34m)\u001b[0m\u001b[0;34m\u001b[0m\u001b[0m\n",
      "\u001b[0;32m/Users/arokem/anaconda/lib/python3.5/site-packages/matplotlib/__init__.py\u001b[0m in \u001b[0;36minner\u001b[0;34m(ax, *args, **kwargs)\u001b[0m\n\u001b[1;32m   1810\u001b[0m                     warnings.warn(msg % (label_namer, func.__name__),\n\u001b[1;32m   1811\u001b[0m                                   RuntimeWarning, stacklevel=2)\n\u001b[0;32m-> 1812\u001b[0;31m             \u001b[0;32mreturn\u001b[0m \u001b[0mfunc\u001b[0m\u001b[0;34m(\u001b[0m\u001b[0max\u001b[0m\u001b[0;34m,\u001b[0m \u001b[0;34m*\u001b[0m\u001b[0margs\u001b[0m\u001b[0;34m,\u001b[0m \u001b[0;34m**\u001b[0m\u001b[0mkwargs\u001b[0m\u001b[0;34m)\u001b[0m\u001b[0;34m\u001b[0m\u001b[0m\n\u001b[0m\u001b[1;32m   1813\u001b[0m         \u001b[0mpre_doc\u001b[0m \u001b[0;34m=\u001b[0m \u001b[0minner\u001b[0m\u001b[0;34m.\u001b[0m\u001b[0m__doc__\u001b[0m\u001b[0;34m\u001b[0m\u001b[0m\n\u001b[1;32m   1814\u001b[0m         \u001b[0;32mif\u001b[0m \u001b[0mpre_doc\u001b[0m \u001b[0;32mis\u001b[0m \u001b[0;32mNone\u001b[0m\u001b[0;34m:\u001b[0m\u001b[0;34m\u001b[0m\u001b[0m\n",
      "\u001b[0;32m/Users/arokem/anaconda/lib/python3.5/site-packages/matplotlib/axes/_axes.py\u001b[0m in \u001b[0;36mbar\u001b[0;34m(self, left, height, width, bottom, **kwargs)\u001b[0m\n\u001b[1;32m   2078\u001b[0m         \u001b[0;32mif\u001b[0m \u001b[0mlen\u001b[0m\u001b[0;34m(\u001b[0m\u001b[0mheight\u001b[0m\u001b[0;34m)\u001b[0m \u001b[0;34m!=\u001b[0m \u001b[0mnbars\u001b[0m\u001b[0;34m:\u001b[0m\u001b[0;34m\u001b[0m\u001b[0m\n\u001b[1;32m   2079\u001b[0m             raise ValueError(\"incompatible sizes: argument 'height' \"\n\u001b[0;32m-> 2080\u001b[0;31m                               \"must be length %d or scalar\" % nbars)\n\u001b[0m\u001b[1;32m   2081\u001b[0m         \u001b[0;32mif\u001b[0m \u001b[0mlen\u001b[0m\u001b[0;34m(\u001b[0m\u001b[0mwidth\u001b[0m\u001b[0;34m)\u001b[0m \u001b[0;34m!=\u001b[0m \u001b[0mnbars\u001b[0m\u001b[0;34m:\u001b[0m\u001b[0;34m\u001b[0m\u001b[0m\n\u001b[1;32m   2082\u001b[0m             raise ValueError(\"incompatible sizes: argument 'width' \"\n",
      "\u001b[0;31mValueError\u001b[0m: incompatible sizes: argument 'height' must be length 5 or scalar"
     ]
    },
    {
     "data": {
      "image/png": "[encoded data removed]",
      "text/plain": [
       "<matplotlib.figure.Figure at 0x11b8ee358>"
      ]
     },
     "metadata": {},
     "output_type": "display_data"
    }
   ],
   "source": [
    "for task in df.Task.unique():\n",
    "    if task == \"Denoising\":\n",
    "        # Broken y axis:\n",
    "        f, (ax2, ax1) = plt.subplots(2, 1, sharex=True)\n",
    "        ax1.bar(np.arange(len(pipelines)) -0.4, np.mean(df[df['Task'] == task][\"Duration\"]))\n",
    "        ax2.bar(np.arange(len(pipelines)) -0.4, np.mean(df[df['Task'] == task][\"Duration\"]))\n",
    "        ax1.set_ylim([0, 5000])\n",
    "        ax2.set_ylim([180000, 190000])\n",
    "        ax1.set_xticks(range(len(pipelines)))\n",
    "        ax1.set_xticklabels(pipelines)\n",
    "        ax1.set_xlim([-0.5, 4.5])\n",
    "        ax2.set_xlim([-0.5, 4.5])\n",
    "        ax2.set_title(task)\n",
    "        ax1.text(-1.3, 7000, 'Time (seconds)', rotation=90)\n",
    "    else:\n",
    "        fig, ax = plt.subplots()\n",
    "        ax.bar(np.arange(len(pipelines)) -0.4, np.mean(df[df['Task'] == task][\"Duration\"]))\n",
    "        ax.set_xticks(range(len(pipelines)))\n",
    "        ax.set_xticklabels(pipelines)\n",
    "        ax.set_xlim([-0.5, 4.5])\n",
    "        ax.set_title(task)\n",
    "        ax.set_ylabel(\"Time (seconds)\")"
   ]
  },
  {
   "cell_type": "code",
   "execution_count": null,
   "metadata": {
    "collapsed": false
   },
   "outputs": [],
   "source": [
    "df[df['Task'] == task][\"Duration\"]"
   ]
  },
  {
   "cell_type": "code",
   "execution_count": null,
   "metadata": {
    "collapsed": true
   },
   "outputs": [],
   "source": []
  }
 ],
 "metadata": {
  "kernelspec": {
   "display_name": "Python 3",
   "language": "python",
   "name": "python3"
  },
  "language_info": {
   "codemirror_mode": {
    "name": "ipython",
    "version": 3
   },
   "file_extension": ".py",
   "mimetype": "text/x-python",
   "name": "python",
   "nbconvert_exporter": "python",
   "pygments_lexer": "ipython3",
   "version": "3.5.1"
  }
 },
 "nbformat": 4,
 "nbformat_minor": 0
}
